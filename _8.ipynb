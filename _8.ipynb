{
 "cells": [
  {
   "cell_type": "code",
   "execution_count": 6,
   "metadata": {},
   "outputs": [],
   "source": [
    "\n",
    "import nni\n",
    "import torch\n",
    "import nni.retiarii.strategy as strategy\n",
    "import nni.retiarii.evaluator.pytorch.lightning as pl\n",
    "import torch.nn.functional as F\n",
    "\n",
    "from search_eval.utils import main_evaluation, psnr\n",
    "from search_space.space import SearchSpace\n",
    "\n",
    "from nni.experiment import Experiment\n",
    "from nni.retiarii.experiment.pytorch import RetiariiExperiment, RetiariiExeConfig\n",
    "from nni.retiarii.evaluator import FunctionalEvaluator\n",
    "from nni.retiarii.evaluator.pytorch import DataLoader\n",
    "\n",
    "from torchvision import transforms\n",
    "from torchvision.datasets import CIFAR10\n"
   ]
  },
  {
   "cell_type": "code",
   "execution_count": 8,
   "metadata": {},
   "outputs": [],
   "source": [
    "\n",
    "class DeepImagePriorDenoising(pl.LightningModule):\n",
    "    def __init__(self, model_cls):\n",
    "        super(DeepImagePriorDenoising, self).__init__()\n",
    "        self.model = model_cls()\n",
    "\n",
    "    def forward(self, x):\n",
    "        return self.model(x)\n",
    "\n",
    "    def training_step(self, batch, batch_idx):\n",
    "        noisy_img, clean_img = batch\n",
    "        output = self.model(torch.randn(noisy_img.shape).to(self.device))\n",
    "        loss = F.mse_loss(output, noisy_img)\n",
    "        return {\"loss\": loss, \"noisy_img\": noisy_img, \"clean_img\": clean_img}\n",
    "\n",
    "    def validation_step(self, batch, batch_idx):\n",
    "        noisy_img, clean_img = batch\n",
    "        denoised_output = self.model(noisy_img)\n",
    "        psnr_value = psnr(clean_img, denoised_output)\n",
    "        self.log('val_psnr', psnr_value)\n",
    "        return {\"val_psnr\": psnr_value}\n",
    "\n",
    "    def configure_optimizers(self):\n",
    "        optimizer = torch.optim.Adam(self.parameters(), lr=1e-3)\n",
    "        return optimizer\n",
    "\n",
    "    def on_validation_epoch_end(self):\n",
    "        self.log('avg_val_psnr', self.trainer.callback_metrics['val_psnr'].mean())\n",
    "\n",
    "    def teardown(self, stage):\n",
    "        if stage == 'fit':\n",
    "            nni.report_final_result(self.trainer.callback_metrics['avg_val_psnr'].item())\n"
   ]
  },
  {
   "cell_type": "code",
   "execution_count": 7,
   "metadata": {},
   "outputs": [
    {
     "name": "stdout",
     "output_type": "stream",
     "text": [
      "Files already downloaded and verified\n"
     ]
    }
   ],
   "source": [
    "transform = nni.trace(transforms.ToTensor)\n",
    "dataset = CIFAR10(root='./data', train=True, download=True, transform=transform)\n",
    "train_dataloader = DataLoader(dataset, batch_size=100)\n"
   ]
  },
  {
   "cell_type": "code",
   "execution_count": null,
   "metadata": {},
   "outputs": [],
   "source": [
    "lightning_module = DeepImagePriorDenoising(SearchSpace)  # Replace MyModelCls with your model's class name\n",
    "trainer = pl.Trainer(max_epochs=10)\n",
    "\n",
    "lightning = pl.Lightning(lightning_module, trainer, train_dataloaders=train_dataloader)\n",
    "\n",
    "experiment = RetiariiExperiment(base_model, lightning, mutators, strategy)\n"
   ]
  },
  {
   "cell_type": "code",
   "execution_count": null,
   "metadata": {},
   "outputs": [],
   "source": [
    "experiment.run()"
   ]
  },
  {
   "cell_type": "code",
   "execution_count": null,
   "metadata": {},
   "outputs": [],
   "source": []
  },
  {
   "cell_type": "code",
   "execution_count": null,
   "metadata": {},
   "outputs": [],
   "source": [
    "# search space\n",
    "model_space = SearchSpace()\n",
    "evaluator = FunctionalEvaluator(main_evaluation)\n",
    "\n",
    "# search strategy\n",
    "search_strategy = strategy.Random(dedup=True)\n",
    "\n",
    "# experiment\n",
    "exp = RetiariiExperiment(model_space, evaluator, [], search_strategy)\n",
    "exp_config = RetiariiExeConfig('local')\n",
    "exp_config.experiment_name = 'mnist_search'\n",
    "exp_config.trial_code_directory = 'C:/Users/Public/Public_VS_Code/NAS_test'\n",
    "exp_config.experiment_working_directory = 'C:/Users/Public/nni-experiments'\n",
    "\n",
    "exp_config.max_trial_number = 12   # spawn 50 trials at most\n",
    "exp_config.trial_concurrency = 2  # will run two trials concurrently\n",
    "\n",
    "exp_config.trial_gpu_number = 1 # will run 1 trial(s) concurrently\n",
    "exp_config.training_service.use_active_gpu = True\n",
    "\n",
    "# Execute\n",
    "exp.run(exp_config, 8081)"
   ]
  },
  {
   "cell_type": "code",
   "execution_count": null,
   "metadata": {},
   "outputs": [],
   "source": []
  },
  {
   "cell_type": "code",
   "execution_count": null,
   "metadata": {},
   "outputs": [],
   "source": []
  }
 ],
 "metadata": {
  "kernelspec": {
   "display_name": "pub_ml_env",
   "language": "python",
   "name": "python3"
  },
  "language_info": {
   "codemirror_mode": {
    "name": "ipython",
    "version": 3
   },
   "file_extension": ".py",
   "mimetype": "text/x-python",
   "name": "python",
   "nbconvert_exporter": "python",
   "pygments_lexer": "ipython3",
   "version": "3.11.0"
  },
  "orig_nbformat": 4
 },
 "nbformat": 4,
 "nbformat_minor": 2
}
