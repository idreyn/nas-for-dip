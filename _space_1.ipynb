{
 "cells": [
  {
   "cell_type": "code",
   "execution_count": 11,
   "metadata": {},
   "outputs": [],
   "source": []
  },
  {
   "cell_type": "markdown",
   "metadata": {},
   "source": [
    "# space"
   ]
  },
  {
   "cell_type": "code",
   "execution_count": 1,
   "metadata": {},
   "outputs": [],
   "source": [
    "\n",
    "import torch\n",
    "import logging\n",
    "\n",
    "import nni.retiarii.nn.pytorch as nn\n",
    "\n",
    "from collections import OrderedDict\n",
    "from nni.retiarii import model_wrapper\n",
    "\n",
    "\n",
    "logging.basicConfig(level=logging.INFO, format='%(asctime)s - %(levelname)s - %(message)s')\n",
    "logger = logging.getLogger(__name__)\n",
    "\n",
    "class Convolutions(nn.Module):\n",
    "    def __init__(self, conv, layer_name):\n",
    "        super().__init__()\n",
    "\n",
    "        self.conv = nn.LayerChoice(conv, label=f'{layer_name} - Step 2: Convolutions, Batchnorm and Activation')\n",
    "\n",
    "    def forward(self, x):\n",
    "        x = self.conv(x)\n",
    "        return x\n",
    "    \n",
    "class BaseBlock(nn.Module):\n",
    "    def __init__(self):\n",
    "        super(BaseBlock, self).__init__()\n",
    "\n",
    "    def get_conv_ordered_dict(self, in_channels, out_channels, ks, pd, dl, activation):\n",
    "        layers = [\n",
    "            (\"Conv2d\", nn.Sequential(\n",
    "                nn.Conv2d(in_channels, out_channels, kernel_size=ks, padding=pd, dilation=dl),\n",
    "                nn.BatchNorm2d(out_channels),\n",
    "                activation,\n",
    "                nn.Conv2d(out_channels, out_channels, kernel_size=ks, padding=pd, dilation=dl),\n",
    "                nn.BatchNorm2d(out_channels),\n",
    "                activation\n",
    "                )\n",
    "            ),\n",
    "            (\"DepthwiseSeparable\", nn.Sequential(\n",
    "                nn.Conv2d(in_channels, in_channels, kernel_size=ks, padding=pd, dilation=dl, groups=in_channels),\n",
    "                nn.Conv2d(in_channels, out_channels, kernel_size=1),\n",
    "                nn.BatchNorm2d(out_channels),\n",
    "                activation,\n",
    "                nn.Conv2d(out_channels, out_channels, kernel_size=ks, padding=pd, dilation=dl, groups=out_channels),\n",
    "                nn.Conv2d(out_channels, out_channels, kernel_size=1),\n",
    "                nn.BatchNorm2d(out_channels),\n",
    "                activation\n",
    "                )\n",
    "            )\n",
    "        ]\n",
    "        return OrderedDict(layers)\n",
    "\n",
    "    def crop_tensor(self, target_tensor, tensor):\n",
    "        target_size = target_tensor.size()[2]  # Assuming height and width are same\n",
    "        tensor_size = tensor.size()[2]\n",
    "        delta = tensor_size - target_size\n",
    "        delta = delta // 2\n",
    "        return tensor[:, :, delta:tensor_size-delta, delta:tensor_size-delta]\n",
    "\n",
    "class EncoderBlock(BaseBlock):\n",
    "    def __init__(self, in_channels, out_channels, ks, pd, dl, activations, downsamples, layer_name):\n",
    "        super(EncoderBlock, self).__init__()\n",
    "        \n",
    "        self.downsample = nn.LayerChoice(downsamples,label=f'{layer_name} - Step 1: Downsampling Technique')\n",
    "        self.conv_layer = Convolutions(self.get_conv_ordered_dict(in_channels, out_channels, ks, pd, dl, activations), layer_name)\n",
    "\n",
    "    def forward(self, x):\n",
    "        x = self.downsample(x)\n",
    "        x = self.conv_layer(x)\n",
    "        return x\n",
    "\n",
    "class DecoderBlock(BaseBlock):\n",
    "    def __init__(self, in_channels, out_channels, ks, pd, dl, activations, upsamples, layer_name):\n",
    "        super(DecoderBlock, self).__init__()\n",
    "\n",
    "        self.upsample = nn.LayerChoice(upsamples, label=f\"{layer_name} - Step 0: Upsampling Technique\")\n",
    "        self.conv_layer = Convolutions(self.get_conv_ordered_dict(in_channels, out_channels, ks, pd, dl, activations), layer_name)\n",
    "\n",
    "    def forward(self, x, skip):\n",
    "        upsampled = self.upsample(x)\n",
    "        cropped = self.crop_tensor(upsampled, skip)\n",
    "        return self.conv_layer(torch.cat([cropped, upsampled], 1))\n",
    "\n",
    "@model_wrapper\n",
    "class SearchSpace(BaseBlock):\n",
    "    def __init__(self, in_channels=1, out_channels=1):\n",
    "        super().__init__()\n",
    "\n",
    "        network_depth = nn.ValueChoice([1, 2, 3, 4], label=\"Network Depth\")\n",
    "\n",
    "        ks = nn.ValueChoice([3, 5], label=\"Kernel Size\")\n",
    "        dl = nn.ValueChoice([1, 3], label=\"Dilation Rate\")\n",
    "        pd = (ks - 1) * dl // 2\n",
    "\n",
    "        activations = nn.LayerChoice(OrderedDict([\n",
    "            (\"RelU\", nn.ReLU(inplace=True)),\n",
    "            # (\"Sigmoid\", nn.Sigmoid()),\n",
    "            (\"SiLU\", nn.SiLU(inplace=True)),\n",
    "        ]), label=\"Activation\")\n",
    "\n",
    "        downsamples = OrderedDict([\n",
    "            (\"AvgPool2d\", nn.AvgPool2d(kernel_size=2, stride=2)),\n",
    "            (\"MaxPool2d\", nn.MaxPool2d(kernel_size=2, stride=2)),\n",
    "        ])\n",
    "\n",
    "        upsamples = OrderedDict([\n",
    "            (\"Nearest\", nn.Upsample(scale_factor=2,mode='nearest')),\n",
    "            (\"Bilinear\", nn.Upsample(scale_factor=2,mode='bilinear', align_corners=True))\n",
    "        ])\n",
    "\n",
    "        # Conv layer in\"\n",
    "        self.mid_channels = 64\n",
    "        self.first = Convolutions(self.get_conv_ordered_dict(in_channels, self.mid_channels, 1, 0, 1, nn.Sigmoid()), \"First Conv Layer\")\n",
    "\n",
    "        # For Encoders:\n",
    "        encoder_block = lambda index: EncoderBlock(64*(2**index), 64*(2**(index+1)), ks, pd, dl, activations, downsamples, f\"Encoder {index+1}\")\n",
    "        self.encoders = nn.Repeat(encoder_block, network_depth)\n",
    "\n",
    "        # For Decoders:\n",
    "        decoder_block = lambda index: DecoderBlock(64*(2**(index))*3, 64*(2**index), ks, pd, dl, activations, upsamples, f\"Decoder {index+1}\")\n",
    "        self.decoders = nn.Repeat(decoder_block, network_depth)\n",
    "        self.decoders = self.decoders[::-1]\n",
    "\n",
    "        # Conv layer out\n",
    "        self.out = nn.Conv2d(self.mid_channels, out_channels, kernel_size=1, padding=0, dilation=1)\n",
    "        \n",
    "    def forward(self, x):\n",
    "        logger.info(\"Input: %s\", x.size())\n",
    "        \n",
    "        # Variables to store intermediate values\n",
    "        encoder_outputs = []\n",
    "\n",
    "        # Start with the first conv layer\n",
    "        x = self.first(x)\n",
    "        encoder_outputs.append(x)\n",
    "        logger.info(f\"Initial Conv Layer: %s\", x.size())\n",
    "\n",
    "        # Encoder pass\n",
    "        for i, encoder in enumerate(self.encoders):\n",
    "            x = encoder(x)\n",
    "            encoder_outputs.append(x)\n",
    "            logger.info(f\"Encoder {i+1}: %s\", x.size())\n",
    "\n",
    "        # Decoder pass\n",
    "        for i, decoder in enumerate(self.decoders):\n",
    "            x = decoder(x, encoder_outputs[-(i+2)])\n",
    "            logger.info(f\"Decoder {len(self.decoders) - i}: %s\", x.size())\n",
    "\n",
    "        x = self.out(x)\n",
    "        logger.info(\"Output: %s\", x.size())\n",
    "        return x"
   ]
  },
  {
   "cell_type": "markdown",
   "metadata": {},
   "source": [
    "# test1"
   ]
  },
  {
   "cell_type": "code",
   "execution_count": null,
   "metadata": {},
   "outputs": [],
   "source": [
    "\n",
    "import nni.retiarii.strategy as strategy\n",
    "\n",
    "from darts.eval import main_evaluation\n",
    "\n",
    "from nni.experiment import Experiment\n",
    "from nni.retiarii.evaluator import FunctionalEvaluator\n",
    "from nni.retiarii.experiment.pytorch import RetiariiExperiment, RetiariiExeConfig\n"
   ]
  },
  {
   "cell_type": "code",
   "execution_count": null,
   "metadata": {},
   "outputs": [],
   "source": [
    "strategies = [\n",
    "    strategy.Random(dedup=True), # multi\n",
    "    strategy.RegularizedEvolution(dedup=True), # multi\n",
    "    strategy.TPE(), # multi\n",
    "    strategy.DARTS() # One-Shot\n",
    "]"
   ]
  },
  {
   "cell_type": "code",
   "execution_count": 37,
   "metadata": {},
   "outputs": [
    {
     "name": "stdout",
     "output_type": "stream",
     "text": [
      "[2023-08-16 16:28:31] \u001b[32mCreating experiment, Experiment ID: \u001b[36mdk71i4ha\u001b[0m\n"
     ]
    },
    {
     "name": "stderr",
     "output_type": "stream",
     "text": [
      "2023-08-16 16:28:31,380 - INFO - Creating experiment, Experiment ID: ${CYAN}dk71i4ha\n"
     ]
    },
    {
     "name": "stdout",
     "output_type": "stream",
     "text": [
      "[2023-08-16 16:28:31] \u001b[32mStarting web server...\u001b[0m\n"
     ]
    },
    {
     "name": "stderr",
     "output_type": "stream",
     "text": [
      "2023-08-16 16:28:31,399 - INFO - Starting web server...\n"
     ]
    },
    {
     "name": "stdout",
     "output_type": "stream",
     "text": [
      "[2023-08-16 16:28:32] \u001b[32mSetting up...\u001b[0m\n"
     ]
    },
    {
     "name": "stderr",
     "output_type": "stream",
     "text": [
      "2023-08-16 16:28:32,485 - INFO - Setting up...\n"
     ]
    },
    {
     "name": "stdout",
     "output_type": "stream",
     "text": [
      "[2023-08-16 16:28:32] \u001b[32mWeb portal URLs: \u001b[36mhttp://169.254.138.100:8081 http://169.254.67.161:8081 http://169.254.50.13:8081 http://10.0.0.172:8081 http://127.0.0.1:8081\u001b[0m\n"
     ]
    },
    {
     "name": "stderr",
     "output_type": "stream",
     "text": [
      "2023-08-16 16:28:32,589 - INFO - Web portal URLs: ${CYAN}http://169.254.138.100:8081 http://169.254.67.161:8081 http://169.254.50.13:8081 http://10.0.0.172:8081 http://127.0.0.1:8081\n",
      "c:\\Users\\Public\\Public_envs\\pub_ml_env\\Lib\\site-packages\\nni\\nas\\execution\\common\\integration_api.py:34: UserWarning: Advisor is already set.You should avoid instantiating RetiariiExperiment twice in one proces.If you are running in a Jupyter notebook, please restart the kernel.\n",
      "  warnings.warn('Advisor is already set.'\n"
     ]
    },
    {
     "name": "stdout",
     "output_type": "stream",
     "text": [
      "[2023-08-16 16:28:32] \u001b[32mDispatcher started\u001b[0m\n"
     ]
    },
    {
     "name": "stderr",
     "output_type": "stream",
     "text": [
      "c:\\Users\\Public\\Public_envs\\pub_ml_env\\Lib\\site-packages\\nni\\nas\\execution\\api.py:59: RuntimeWarning: Execution engine is already set. You should avoid instantiating RetiariiExperiment twice in one process. If you are running in a Jupyter notebook, please restart the kernel.\n",
      "  warnings.warn('Execution engine is already set. '\n",
      "2023-08-16 16:28:32,599 - INFO - Dispatcher started\n"
     ]
    },
    {
     "name": "stdout",
     "output_type": "stream",
     "text": [
      "[2023-08-16 16:28:32] \u001b[32mStart strategy...\u001b[0m\n"
     ]
    },
    {
     "name": "stderr",
     "output_type": "stream",
     "text": [
      "2023-08-16 16:28:32,621 - INFO - Start strategy...\n"
     ]
    },
    {
     "name": "stdout",
     "output_type": "stream",
     "text": [
      "[2023-08-16 16:28:32] \u001b[32mSuccessfully update searchSpace.\u001b[0m\n"
     ]
    },
    {
     "name": "stderr",
     "output_type": "stream",
     "text": [
      "2023-08-16 16:28:32,664 - INFO - Successfully update searchSpace.\n"
     ]
    },
    {
     "ename": "ValueError",
     "evalue": "Mutator is not empty. The reason might be that you have used the wrong execution engine. Try to set engine to `oneshot` and try again.",
     "output_type": "error",
     "traceback": [
      "\u001b[1;31m---------------------------------------------------------------------------\u001b[0m",
      "\u001b[1;31mValueError\u001b[0m                                Traceback (most recent call last)",
      "Cell \u001b[1;32mIn[37], line 25\u001b[0m\n\u001b[0;32m     22\u001b[0m exp_config\u001b[39m.\u001b[39mtraining_service\u001b[39m.\u001b[39muse_active_gpu \u001b[39m=\u001b[39m \u001b[39mTrue\u001b[39;00m\n\u001b[0;32m     24\u001b[0m \u001b[39m# Execute\u001b[39;00m\n\u001b[1;32m---> 25\u001b[0m exp\u001b[39m.\u001b[39;49mrun(exp_config, \u001b[39m8081\u001b[39;49m)\n",
      "File \u001b[1;32mc:\\Users\\Public\\Public_envs\\pub_ml_env\\Lib\\site-packages\\nni\\nas\\experiment\\pytorch.py:306\u001b[0m, in \u001b[0;36mRetiariiExperiment.run\u001b[1;34m(self, config, port, debug)\u001b[0m\n\u001b[0;32m    303\u001b[0m \u001b[39melse\u001b[39;00m:\n\u001b[0;32m    304\u001b[0m     \u001b[39mraise\u001b[39;00m \u001b[39mRuntimeError\u001b[39;00m(\u001b[39mf\u001b[39m\u001b[39m'\u001b[39m\u001b[39mThe experiment mode \u001b[39m\u001b[39m\"\u001b[39m\u001b[39m{\u001b[39;00m\u001b[39mself\u001b[39m\u001b[39m.\u001b[39m_action\u001b[39m}\u001b[39;00m\u001b[39m\"\u001b[39m\u001b[39m is not supposed to invoke run() method.\u001b[39m\u001b[39m'\u001b[39m)\n\u001b[1;32m--> 306\u001b[0m \u001b[39mself\u001b[39;49m\u001b[39m.\u001b[39;49m_run_strategy(base_model_ir, \u001b[39mself\u001b[39;49m\u001b[39m.\u001b[39;49mapplied_mutators)\n\u001b[0;32m    307\u001b[0m \u001b[39m# FIXME: move this logic to strategy with a new API provided by execution engine\u001b[39;00m\n\u001b[0;32m    308\u001b[0m \u001b[39mself\u001b[39m\u001b[39m.\u001b[39m_wait_completion()\n",
      "File \u001b[1;32mc:\\Users\\Public\\Public_envs\\pub_ml_env\\Lib\\site-packages\\nni\\nas\\experiment\\pytorch.py:214\u001b[0m, in \u001b[0;36mRetiariiExperiment._run_strategy\u001b[1;34m(self, base_model_ir, applied_mutators)\u001b[0m\n\u001b[0;32m    212\u001b[0m search_space \u001b[39m=\u001b[39m dry_run_for_formatted_search_space(base_model_ir, applied_mutators)\n\u001b[0;32m    213\u001b[0m \u001b[39mself\u001b[39m\u001b[39m.\u001b[39mupdate_search_space(search_space)\n\u001b[1;32m--> 214\u001b[0m \u001b[39mself\u001b[39;49m\u001b[39m.\u001b[39;49mstrategy\u001b[39m.\u001b[39;49mrun(base_model_ir, applied_mutators)\n\u001b[0;32m    215\u001b[0m _logger\u001b[39m.\u001b[39minfo(\u001b[39m'\u001b[39m\u001b[39mStrategy exit\u001b[39m\u001b[39m'\u001b[39m)\n",
      "File \u001b[1;32mc:\\Users\\Public\\Public_envs\\pub_ml_env\\Lib\\site-packages\\nni\\nas\\oneshot\\pytorch\\strategy.py:78\u001b[0m, in \u001b[0;36mOneShotStrategy.run\u001b[1;34m(self, base_model, applied_mutators)\u001b[0m\n\u001b[0;32m     75\u001b[0m _reason \u001b[39m=\u001b[39m \u001b[39m'\u001b[39m\u001b[39mThe reason might be that you have used the wrong execution engine. Try to set engine to `oneshot` and try again.\u001b[39m\u001b[39m'\u001b[39m\n\u001b[0;32m     77\u001b[0m \u001b[39mif\u001b[39;00m applied_mutators:\n\u001b[1;32m---> 78\u001b[0m     \u001b[39mraise\u001b[39;00m \u001b[39mValueError\u001b[39;00m(\u001b[39m'\u001b[39m\u001b[39mMutator is not empty. \u001b[39m\u001b[39m'\u001b[39m \u001b[39m+\u001b[39m _reason)\n\u001b[0;32m     80\u001b[0m \u001b[39mif\u001b[39;00m \u001b[39mnot\u001b[39;00m \u001b[39misinstance\u001b[39m(base_model\u001b[39m.\u001b[39mevaluator, Lightning):\n\u001b[0;32m     81\u001b[0m     \u001b[39mraise\u001b[39;00m \u001b[39mTypeError\u001b[39;00m(\u001b[39m'\u001b[39m\u001b[39mEvaluator needs to be a lightning evaluator to make one-shot strategy work.\u001b[39m\u001b[39m'\u001b[39m)\n",
      "\u001b[1;31mValueError\u001b[0m: Mutator is not empty. The reason might be that you have used the wrong execution engine. Try to set engine to `oneshot` and try again."
     ]
    }
   ],
   "source": [
    "# search space\n",
    "model_space = SearchSpace()\n",
    "evaluator = FunctionalEvaluator(main_evaluation)\n",
    "\n",
    "# search strategy\n",
    "# search_strategy = strategy.Random(dedup=True)\n",
    "search_strategy = strategy.DARTS()\n",
    "# experiment\n",
    "exp = RetiariiExperiment(model_space, evaluator, [], search_strategy)\n",
    "exp_config = RetiariiExeConfig('local')\n",
    "exp_config.experiment_name = 'mnist_search'\n",
    "exp_config.trial_code_directory = 'C:/Users/Public/Public_VS_Code/NAS_test'\n",
    "exp_config.experiment_working_directory = 'C:/Users/Public/nni-experiments'\n",
    "\n",
    "# exp_config.training_service.engine = 'oneshot' # only if using darts\n",
    "\n",
    "\n",
    "exp_config.max_trial_number = 12   # spawn 50 trials at most\n",
    "exp_config.trial_concurrency = 2  # will run two trials concurrently\n",
    "\n",
    "exp_config.trial_gpu_number = 1 # will run 1 trial(s) concurrently\n",
    "exp_config.training_service.use_active_gpu = True\n",
    "\n",
    "# Execute\n",
    "exp.run(exp_config, 8081)"
   ]
  },
  {
   "cell_type": "code",
   "execution_count": 17,
   "metadata": {},
   "outputs": [
    {
     "name": "stdout",
     "output_type": "stream",
     "text": [
      "[2023-08-16 17:22:04] \u001b[32mConnect to port 8081 success, experiment id is a0o93vrm, status is RUNNING.\u001b[0m\n"
     ]
    },
    {
     "name": "stderr",
     "output_type": "stream",
     "text": [
      "2023-08-16 17:22:04,700 - INFO - Connect to port 8081 success, experiment id is a0o93vrm, status is RUNNING.\n"
     ]
    },
    {
     "name": "stdout",
     "output_type": "stream",
     "text": [
      "[2023-08-16 17:22:04] \u001b[32mStopping experiment, please wait...\u001b[0m\n"
     ]
    },
    {
     "name": "stderr",
     "output_type": "stream",
     "text": [
      "2023-08-16 17:22:04,704 - INFO - Stopping experiment, please wait...\n"
     ]
    },
    {
     "name": "stdout",
     "output_type": "stream",
     "text": [
      "[2023-08-16 17:22:04] \u001b[32mExperiment stopped\u001b[0m\n"
     ]
    },
    {
     "name": "stderr",
     "output_type": "stream",
     "text": [
      "2023-08-16 17:22:04,713 - INFO - Experiment stopped\n"
     ]
    },
    {
     "name": "stdout",
     "output_type": "stream",
     "text": [
      "[2023-08-16 17:22:04] \u001b[32mDispatcher exiting...\u001b[0m\n"
     ]
    },
    {
     "name": "stderr",
     "output_type": "stream",
     "text": [
      "2023-08-16 17:22:04,719 - INFO - Dispatcher exiting...\n"
     ]
    },
    {
     "name": "stdout",
     "output_type": "stream",
     "text": [
      "[2023-08-16 17:22:05] \u001b[32mDispatcher terminiated\u001b[0m\n"
     ]
    },
    {
     "name": "stderr",
     "output_type": "stream",
     "text": [
      "2023-08-16 17:22:05,255 - INFO - Dispatcher terminiated\n"
     ]
    }
   ],
   "source": [
    "experiment = Experiment.connect(8081)\n",
    "experiment.stop()"
   ]
  },
  {
   "cell_type": "markdown",
   "metadata": {},
   "source": [
    "# test 2"
   ]
  },
  {
   "cell_type": "code",
   "execution_count": 5,
   "metadata": {},
   "outputs": [],
   "source": [
    "from nni.nas.strategy import DARTS as DartsStrategy\n",
    "# from nni.nas.experiment import RetiariiExperiment\n",
    "from nni.nas.experiment.pytorch import RetiariiExperiment, RetiariiExeConfig\n",
    "from nni.nas.evaluator import FunctionalEvaluator\n",
    "from darts.eval import main_evaluation\n",
    "from nni.experiment import Experiment\n",
    "\n",
    "\n",
    "# search space\n",
    "model_space = SearchSpace()\n",
    "evaluator = FunctionalEvaluator(main_evaluation)\n"
   ]
  },
  {
   "cell_type": "code",
   "execution_count": 16,
   "metadata": {},
   "outputs": [
    {
     "name": "stdout",
     "output_type": "stream",
     "text": [
      "[2023-08-16 17:08:59] \u001b[32mCreating experiment, Experiment ID: \u001b[36ma0o93vrm\u001b[0m\n"
     ]
    },
    {
     "name": "stderr",
     "output_type": "stream",
     "text": [
      "2023-08-16 17:08:59,446 - INFO - Creating experiment, Experiment ID: ${CYAN}a0o93vrm\n"
     ]
    },
    {
     "name": "stdout",
     "output_type": "stream",
     "text": [
      "[2023-08-16 17:08:59] \u001b[32mStarting web server...\u001b[0m\n"
     ]
    },
    {
     "name": "stderr",
     "output_type": "stream",
     "text": [
      "2023-08-16 17:08:59,462 - INFO - Starting web server...\n"
     ]
    },
    {
     "name": "stdout",
     "output_type": "stream",
     "text": [
      "[2023-08-16 17:09:00] \u001b[32mSetting up...\u001b[0m\n"
     ]
    },
    {
     "name": "stderr",
     "output_type": "stream",
     "text": [
      "2023-08-16 17:09:00,065 - INFO - Setting up...\n"
     ]
    },
    {
     "name": "stdout",
     "output_type": "stream",
     "text": [
      "[2023-08-16 17:09:00] \u001b[32mWeb portal URLs: \u001b[36mhttp://169.254.138.100:8081 http://169.254.67.161:8081 http://169.254.50.13:8081 http://10.0.0.172:8081 http://127.0.0.1:8081\u001b[0m\n"
     ]
    },
    {
     "name": "stderr",
     "output_type": "stream",
     "text": [
      "2023-08-16 17:09:00,169 - INFO - Web portal URLs: ${CYAN}http://169.254.138.100:8081 http://169.254.67.161:8081 http://169.254.50.13:8081 http://10.0.0.172:8081 http://127.0.0.1:8081\n"
     ]
    },
    {
     "name": "stdout",
     "output_type": "stream",
     "text": [
      "[2023-08-16 17:09:00] \u001b[32mDispatcher started\u001b[0m\n"
     ]
    },
    {
     "name": "stderr",
     "output_type": "stream",
     "text": [
      "2023-08-16 17:09:00,183 - INFO - Dispatcher started\n"
     ]
    },
    {
     "name": "stdout",
     "output_type": "stream",
     "text": [
      "[2023-08-16 17:09:00] \u001b[32mStart strategy...\u001b[0m\n"
     ]
    },
    {
     "name": "stderr",
     "output_type": "stream",
     "text": [
      "2023-08-16 17:09:00,220 - INFO - Start strategy...\n"
     ]
    },
    {
     "name": "stdout",
     "output_type": "stream",
     "text": [
      "[2023-08-16 17:09:00] \u001b[32mSuccessfully update searchSpace.\u001b[0m\n"
     ]
    },
    {
     "name": "stderr",
     "output_type": "stream",
     "text": [
      "2023-08-16 17:09:00,269 - INFO - Successfully update searchSpace.\n"
     ]
    },
    {
     "ename": "ValueError",
     "evalue": "Mutator is not empty. The reason might be that you have used the wrong execution engine. Try to set engine to `oneshot` and try again.",
     "output_type": "error",
     "traceback": [
      "\u001b[1;31m---------------------------------------------------------------------------\u001b[0m",
      "\u001b[1;31mValueError\u001b[0m                                Traceback (most recent call last)",
      "Cell \u001b[1;32mIn[16], line 24\u001b[0m\n\u001b[0;32m     18\u001b[0m exp_config\u001b[39m.\u001b[39mtrial_concurrency \u001b[39m=\u001b[39m \u001b[39m2\u001b[39m  \u001b[39m# will run two trials concurrently\u001b[39;00m\n\u001b[0;32m     20\u001b[0m \u001b[39m# exp_config.trial_gpu_number = 1 # will run 1 trial(s) concurrently\u001b[39;00m\n\u001b[0;32m     21\u001b[0m \u001b[39m# exp_config.training_service.use_active_gpu = True\u001b[39;00m\n\u001b[0;32m     22\u001b[0m \n\u001b[0;32m     23\u001b[0m \u001b[39m# Execute\u001b[39;00m\n\u001b[1;32m---> 24\u001b[0m exp\u001b[39m.\u001b[39;49mrun(exp_config, \u001b[39m8081\u001b[39;49m)\n\u001b[0;32m     26\u001b[0m exported_arch \u001b[39m=\u001b[39m experiment\u001b[39m.\u001b[39mexport_top_models(formatter\u001b[39m=\u001b[39m\u001b[39m'\u001b[39m\u001b[39mdict\u001b[39m\u001b[39m'\u001b[39m)[\u001b[39m0\u001b[39m:\u001b[39m10\u001b[39m]\n\u001b[0;32m     28\u001b[0m exported_arch[\u001b[39m0\u001b[39m]\n",
      "File \u001b[1;32mc:\\Users\\Public\\Public_envs\\pub_ml_env\\Lib\\site-packages\\nni\\nas\\experiment\\pytorch.py:306\u001b[0m, in \u001b[0;36mRetiariiExperiment.run\u001b[1;34m(self, config, port, debug)\u001b[0m\n\u001b[0;32m    303\u001b[0m \u001b[39melse\u001b[39;00m:\n\u001b[0;32m    304\u001b[0m     \u001b[39mraise\u001b[39;00m \u001b[39mRuntimeError\u001b[39;00m(\u001b[39mf\u001b[39m\u001b[39m'\u001b[39m\u001b[39mThe experiment mode \u001b[39m\u001b[39m\"\u001b[39m\u001b[39m{\u001b[39;00m\u001b[39mself\u001b[39m\u001b[39m.\u001b[39m_action\u001b[39m}\u001b[39;00m\u001b[39m\"\u001b[39m\u001b[39m is not supposed to invoke run() method.\u001b[39m\u001b[39m'\u001b[39m)\n\u001b[1;32m--> 306\u001b[0m \u001b[39mself\u001b[39;49m\u001b[39m.\u001b[39;49m_run_strategy(base_model_ir, \u001b[39mself\u001b[39;49m\u001b[39m.\u001b[39;49mapplied_mutators)\n\u001b[0;32m    307\u001b[0m \u001b[39m# FIXME: move this logic to strategy with a new API provided by execution engine\u001b[39;00m\n\u001b[0;32m    308\u001b[0m \u001b[39mself\u001b[39m\u001b[39m.\u001b[39m_wait_completion()\n",
      "File \u001b[1;32mc:\\Users\\Public\\Public_envs\\pub_ml_env\\Lib\\site-packages\\nni\\nas\\experiment\\pytorch.py:214\u001b[0m, in \u001b[0;36mRetiariiExperiment._run_strategy\u001b[1;34m(self, base_model_ir, applied_mutators)\u001b[0m\n\u001b[0;32m    212\u001b[0m search_space \u001b[39m=\u001b[39m dry_run_for_formatted_search_space(base_model_ir, applied_mutators)\n\u001b[0;32m    213\u001b[0m \u001b[39mself\u001b[39m\u001b[39m.\u001b[39mupdate_search_space(search_space)\n\u001b[1;32m--> 214\u001b[0m \u001b[39mself\u001b[39;49m\u001b[39m.\u001b[39;49mstrategy\u001b[39m.\u001b[39;49mrun(base_model_ir, applied_mutators)\n\u001b[0;32m    215\u001b[0m _logger\u001b[39m.\u001b[39minfo(\u001b[39m'\u001b[39m\u001b[39mStrategy exit\u001b[39m\u001b[39m'\u001b[39m)\n",
      "File \u001b[1;32mc:\\Users\\Public\\Public_envs\\pub_ml_env\\Lib\\site-packages\\nni\\nas\\oneshot\\pytorch\\strategy.py:78\u001b[0m, in \u001b[0;36mOneShotStrategy.run\u001b[1;34m(self, base_model, applied_mutators)\u001b[0m\n\u001b[0;32m     75\u001b[0m _reason \u001b[39m=\u001b[39m \u001b[39m'\u001b[39m\u001b[39mThe reason might be that you have used the wrong execution engine. Try to set engine to `oneshot` and try again.\u001b[39m\u001b[39m'\u001b[39m\n\u001b[0;32m     77\u001b[0m \u001b[39mif\u001b[39;00m applied_mutators:\n\u001b[1;32m---> 78\u001b[0m     \u001b[39mraise\u001b[39;00m \u001b[39mValueError\u001b[39;00m(\u001b[39m'\u001b[39m\u001b[39mMutator is not empty. \u001b[39m\u001b[39m'\u001b[39m \u001b[39m+\u001b[39m _reason)\n\u001b[0;32m     80\u001b[0m \u001b[39mif\u001b[39;00m \u001b[39mnot\u001b[39;00m \u001b[39misinstance\u001b[39m(base_model\u001b[39m.\u001b[39mevaluator, Lightning):\n\u001b[0;32m     81\u001b[0m     \u001b[39mraise\u001b[39;00m \u001b[39mTypeError\u001b[39;00m(\u001b[39m'\u001b[39m\u001b[39mEvaluator needs to be a lightning evaluator to make one-shot strategy work.\u001b[39m\u001b[39m'\u001b[39m)\n",
      "\u001b[1;31mValueError\u001b[0m: Mutator is not empty. The reason might be that you have used the wrong execution engine. Try to set engine to `oneshot` and try again."
     ]
    }
   ],
   "source": [
    "\n",
    "# search strategy\n",
    "# search_strategy = strategy.Random(dedup=True)\n",
    "search_strategy = DartsStrategy()\n",
    "\n",
    "# experiment\n",
    "# exp = RetiariiExperiment(model_space, evaluator, None, search_strategy)\n",
    "exp = RetiariiExperiment(base_model=model_space, evaluator=evaluator, strategy=search_strategy)\n",
    "\n",
    "exp_config = RetiariiExeConfig('local')\n",
    "# exp_config.experiment_name = 'mnist_search'\n",
    "# exp_config.trial_code_directory = 'C:/Users/Public/Public_VS_Code/NAS_test'\n",
    "# exp_config.experiment_working_directory = 'C:/Users/Public/nni-experiments'\n",
    "\n",
    "# # exp_config.training_service.engine = 'oneshot' # only if using darts\n",
    "\n",
    "\n",
    "# exp_config.max_trial_number = 12   # spawn 50 trials at most\n",
    "exp_config.trial_concurrency = 2  # will run two trials concurrently\n",
    "\n",
    "exp_config.trial_gpu_number = 1 # will run 1 trial(s) concurrently\n",
    "exp_config.training_service.use_active_gpu = True\n",
    "\n",
    "# Execute\n",
    "exp.run(exp_config, 8081)\n",
    "\n",
    "exported_arch = experiment.export_top_models(formatter='dict')[0:10]\n",
    "\n",
    "exported_arch[0]"
   ]
  },
  {
   "cell_type": "code",
   "execution_count": 14,
   "metadata": {},
   "outputs": [
    {
     "name": "stdout",
     "output_type": "stream",
     "text": [
      "[2023-08-16 17:08:40] \u001b[32mConnect to port 8081 success, experiment id is knb71v3r, status is RUNNING.\u001b[0m\n"
     ]
    },
    {
     "name": "stderr",
     "output_type": "stream",
     "text": [
      "2023-08-16 17:08:40,038 - INFO - Connect to port 8081 success, experiment id is knb71v3r, status is RUNNING.\n"
     ]
    },
    {
     "name": "stdout",
     "output_type": "stream",
     "text": [
      "[2023-08-16 17:08:40] \u001b[32mStopping experiment, please wait...\u001b[0m\n"
     ]
    },
    {
     "name": "stderr",
     "output_type": "stream",
     "text": [
      "2023-08-16 17:08:40,041 - INFO - Stopping experiment, please wait...\n"
     ]
    },
    {
     "name": "stdout",
     "output_type": "stream",
     "text": [
      "[2023-08-16 17:08:40] \u001b[32mExperiment stopped\u001b[0m\n"
     ]
    },
    {
     "name": "stderr",
     "output_type": "stream",
     "text": [
      "2023-08-16 17:08:40,059 - INFO - Experiment stopped\n"
     ]
    },
    {
     "name": "stdout",
     "output_type": "stream",
     "text": [
      "[2023-08-16 17:08:40] \u001b[32mDispatcher exiting...\u001b[0m\n"
     ]
    },
    {
     "name": "stderr",
     "output_type": "stream",
     "text": [
      "2023-08-16 17:08:40,063 - INFO - Dispatcher exiting...\n"
     ]
    },
    {
     "name": "stdout",
     "output_type": "stream",
     "text": [
      "[2023-08-16 17:08:41] \u001b[32mDispatcher terminiated\u001b[0m\n"
     ]
    },
    {
     "name": "stderr",
     "output_type": "stream",
     "text": [
      "2023-08-16 17:08:41,657 - INFO - Dispatcher terminiated\n"
     ]
    }
   ],
   "source": [
    "experiment = Experiment.connect(8081)\n",
    "experiment.stop()"
   ]
  },
  {
   "cell_type": "code",
   "execution_count": null,
   "metadata": {},
   "outputs": [],
   "source": []
  }
 ],
 "metadata": {
  "kernelspec": {
   "display_name": "pub_ml_env",
   "language": "python",
   "name": "python3"
  },
  "language_info": {
   "codemirror_mode": {
    "name": "ipython",
    "version": 3
   },
   "file_extension": ".py",
   "mimetype": "text/x-python",
   "name": "python",
   "nbconvert_exporter": "python",
   "pygments_lexer": "ipython3",
   "version": "3.11.0"
  },
  "orig_nbformat": 4
 },
 "nbformat": 4,
 "nbformat_minor": 2
}
